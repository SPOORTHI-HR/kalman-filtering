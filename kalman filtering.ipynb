{
 "cells": [
  {
   "cell_type": "code",
   "execution_count": 3,
   "id": "f1d298fe-3340-4e08-bf45-7c4311b418fd",
   "metadata": {},
   "outputs": [
    {
     "name": "stdout",
     "output_type": "stream",
     "text": [
      "Filtered states:\n",
      "[[1.1375    ]\n",
      " [1.30794702]\n",
      " [1.50539255]]\n",
      "\n",
      "Filtered covariances:\n"
     ]
    },
    {
     "data": {
      "text/plain": [
       "array([[[0.034375  ]],\n",
       "\n",
       "       [[0.02350993]],\n",
       "\n",
       "       [[0.02006344]]])"
      ]
     },
     "execution_count": 3,
     "metadata": {},
     "output_type": "execute_result"
    }
   ],
   "source": [
    "# prompt: kalman filtering\n",
    "\n",
    "import numpy as np\n",
    "\n",
    "def kalman_filter(measurements, initial_state, initial_covariance, process_noise, measurement_noise):\n",
    "    \"\"\"\n",
    "    Applies the Kalman filter to a series of measurements.\n",
    "\n",
    "    Args:\n",
    "        measurements: A NumPy array of shape (N, M) representing N measurements of M variables.\n",
    "        initial_state: A NumPy array of shape (M,) representing the initial state estimate.\n",
    "        initial_covariance: A NumPy array of shape (M, M) representing the initial state covariance.\n",
    "        process_noise: A NumPy array of shape (M, M) representing the process noise covariance.\n",
    "        measurement_noise: A NumPy array of shape (M, M) representing the measurement noise covariance.\n",
    "\n",
    "\n",
    "    Returns:\n",
    "         A tuple containing:\n",
    "             - filtered_states: A NumPy array of shape (N, M) representing the filtered state estimates.\n",
    "             - filtered_covariances: A NumPy array of shape (N, M, M) representing the filtered state covariances.\n",
    "    \"\"\"\n",
    "\n",
    "\n",
    "    # Initialize variables\n",
    "    num_measurements = measurements.shape[0]\n",
    "    num_variables = measurements.shape[1]\n",
    "    filtered_states = np.zeros((num_measurements, num_variables))\n",
    "    filtered_covariances = np.zeros((num_measurements, num_variables, num_variables))\n",
    "    state = initial_state\n",
    "    covariance = initial_covariance\n",
    "\n",
    "    # Apply Kalman filter to each measurement\n",
    "    for i in range(num_measurements):\n",
    "        # Prediction step\n",
    "        predicted_state = state # Assuming no state transition model, state remains same\n",
    "        predicted_covariance = covariance + process_noise\n",
    "\n",
    "        # Update step\n",
    "        innovation = measurements[i] - predicted_state\n",
    "        innovation_covariance = predicted_covariance + measurement_noise\n",
    "        kalman_gain = predicted_covariance @ np.linalg.inv(innovation_covariance)\n",
    "        state = predicted_state + kalman_gain @ innovation\n",
    "        covariance = (np.identity(num_variables) - kalman_gain) @ predicted_covariance\n",
    "\n",
    "        # Store the filtered state and covariance\n",
    "        filtered_states[i] = state\n",
    "        filtered_covariances[i] = covariance\n",
    "\n",
    "\n",
    "    return filtered_states, filtered_covariances\n",
    "\n",
    "\n",
    "# Example usage\n",
    "measurements = np.array([[1.2], [1.5], [1.8]])\n",
    "initial_state = np.array([1.0])\n",
    "initial_covariance = np.array([[0.1]])\n",
    "process_noise = np.array([[0.01]])\n",
    "measurement_noise = np.array([[0.05]])\n",
    "\n",
    "filtered_states, filtered_covariances = kalman_filter(measurements, initial_state, initial_covariance, process_noise, measurement_noise)\n",
    "\n",
    "print(\"Filtered states:\")\n",
    "print(filtered_states)\n",
    "\n",
    "print(\"\\nFiltered covariances:\")\n",
    "filtered_covariances\n"
   ]
  },
  {
   "cell_type": "code",
   "execution_count": null,
   "id": "d54083b0-09c8-413d-9f91-a9986c30253a",
   "metadata": {},
   "outputs": [],
   "source": []
  },
  {
   "cell_type": "code",
   "execution_count": null,
   "id": "118473a0-e43f-4b35-bfe8-f8169499b435",
   "metadata": {},
   "outputs": [],
   "source": []
  }
 ],
 "metadata": {
  "kernelspec": {
   "display_name": "Python 3 (ipykernel)",
   "language": "python",
   "name": "python3"
  },
  "language_info": {
   "codemirror_mode": {
    "name": "ipython",
    "version": 3
   },
   "file_extension": ".py",
   "mimetype": "text/x-python",
   "name": "python",
   "nbconvert_exporter": "python",
   "pygments_lexer": "ipython3",
   "version": "3.12.4"
  }
 },
 "nbformat": 4,
 "nbformat_minor": 5
}
